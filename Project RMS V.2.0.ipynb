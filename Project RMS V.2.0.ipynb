{
 "cells": [
  {
   "cell_type": "code",
   "execution_count": 6,
   "id": "2eb98428-86e8-43a3-8941-09719a9adf70",
   "metadata": {},
   "outputs": [
    {
     "name": "stdout",
     "output_type": "stream",
     "text": [
      "Welcome to the Moonlight Cafe\n",
      "**************************************************\n"
     ]
    },
    {
     "name": "stdin",
     "output_type": "stream",
     "text": [
      "Please enter your full name here: nina kale\n"
     ]
    },
    {
     "name": "stdout",
     "output_type": "stream",
     "text": [
      "This is your Menu\n",
      "**************************************************\n",
      "Menu:\n",
      "Instant Coffee : ₹ 80\n",
      "Black Coffee : ₹ 90\n",
      "Latte : ₹ 120\n",
      "Americano : ₹ 130\n",
      "Mocca : ₹ 150\n",
      "Cappuccino : ₹ 200\n",
      "Kopi Luwak : ₹ 300\n",
      "Cheese Sandwich : ₹ 80\n",
      "Tuna Sandwich : ₹ 90\n",
      "Fish And Chips : ₹ 120\n",
      "Chocolate Cake : ₹ 130\n",
      "Strawberry Mousse : ₹ 150\n",
      "Red Velvet Cake : ₹ 200\n",
      "Cheese Cake : ₹ 300\n",
      "**************************************************\n"
     ]
    },
    {
     "name": "stdin",
     "output_type": "stream",
     "text": [
      "Please Place Your Order Here: 2\n"
     ]
    },
    {
     "name": "stdout",
     "output_type": "stream",
     "text": [
      "Invalid Order\n",
      "Welcome to the Moonlight Cafe\n",
      "**************************************************\n"
     ]
    },
    {
     "name": "stdin",
     "output_type": "stream",
     "text": [
      "Please enter your full name here: rena mane\n"
     ]
    },
    {
     "name": "stdout",
     "output_type": "stream",
     "text": [
      "This is your Menu\n",
      "**************************************************\n",
      "Menu:\n",
      "Instant Coffee : ₹ 80\n",
      "Black Coffee : ₹ 90\n",
      "Latte : ₹ 120\n",
      "Americano : ₹ 130\n",
      "Mocca : ₹ 150\n",
      "Cappuccino : ₹ 200\n",
      "Kopi Luwak : ₹ 300\n",
      "Cheese Sandwich : ₹ 80\n",
      "Tuna Sandwich : ₹ 90\n",
      "Fish And Chips : ₹ 120\n",
      "Chocolate Cake : ₹ 130\n",
      "Strawberry Mousse : ₹ 150\n",
      "Red Velvet Cake : ₹ 200\n",
      "Cheese Cake : ₹ 300\n",
      "**************************************************\n"
     ]
    },
    {
     "name": "stdin",
     "output_type": "stream",
     "text": [
      "Please Place Your Order Here: latte\n",
      "How Many Number Of Order You Want: 2\n"
     ]
    },
    {
     "name": "stdout",
     "output_type": "stream",
     "text": [
      "Preparing Your Order\n",
      "Your Order Is Ready\n",
      "Please Enjoy Your Latte\n"
     ]
    },
    {
     "name": "stdin",
     "output_type": "stream",
     "text": [
      "Do you want to order anything else?: no\n"
     ]
    },
    {
     "name": "stdout",
     "output_type": "stream",
     "text": [
      "---------------Bill Receipt---------------\n",
      "final bill: ₹ 240\n",
      "--------------Payment Process-------------\n"
     ]
    },
    {
     "name": "stdin",
     "output_type": "stream",
     "text": [
      "Please pay your bill here:₹ 300\n"
     ]
    },
    {
     "name": "stdout",
     "output_type": "stream",
     "text": [
      "Here is your change: ₹ 60\n",
      "Thank you for visiting our Moonlight Cafe\n",
      "Please Visit Us Again\n",
      "Welcome to the Moonlight Cafe\n",
      "**************************************************\n"
     ]
    },
    {
     "name": "stdin",
     "output_type": "stream",
     "text": [
      "Please enter your full name here: gigi hadid\n"
     ]
    },
    {
     "name": "stdout",
     "output_type": "stream",
     "text": [
      "This is your Menu\n",
      "**************************************************\n",
      "Menu:\n",
      "Instant Coffee : ₹ 80\n",
      "Black Coffee : ₹ 90\n",
      "Latte : ₹ 120\n",
      "Americano : ₹ 130\n",
      "Mocca : ₹ 150\n",
      "Cappuccino : ₹ 200\n",
      "Kopi Luwak : ₹ 300\n",
      "Cheese Sandwich : ₹ 80\n",
      "Tuna Sandwich : ₹ 90\n",
      "Fish And Chips : ₹ 120\n",
      "Chocolate Cake : ₹ 130\n",
      "Strawberry Mousse : ₹ 150\n",
      "Red Velvet Cake : ₹ 200\n",
      "Cheese Cake : ₹ 300\n",
      "**************************************************\n"
     ]
    },
    {
     "name": "stdin",
     "output_type": "stream",
     "text": [
      "Please Place Your Order Here: mocca\n",
      "How Many Number Of Order You Want: 1\n"
     ]
    },
    {
     "name": "stdout",
     "output_type": "stream",
     "text": [
      "Preparing Your Order\n",
      "Your Order Is Ready\n",
      "Please Enjoy Your Mocca\n"
     ]
    },
    {
     "name": "stdin",
     "output_type": "stream",
     "text": [
      "Do you want to order anything else?: yes\n"
     ]
    },
    {
     "name": "stdout",
     "output_type": "stream",
     "text": [
      "Menu:\n",
      "Instant Coffee : ₹ 80\n",
      "Black Coffee : ₹ 90\n",
      "Latte : ₹ 120\n",
      "Americano : ₹ 130\n",
      "Mocca : ₹ 150\n",
      "Cappuccino : ₹ 200\n",
      "Kopi Luwak : ₹ 300\n",
      "Cheese Sandwich : ₹ 80\n",
      "Tuna Sandwich : ₹ 90\n",
      "Fish And Chips : ₹ 120\n",
      "Chocolate Cake : ₹ 130\n",
      "Strawberry Mousse : ₹ 150\n",
      "Red Velvet Cake : ₹ 200\n",
      "Cheese Cake : ₹ 300\n",
      "**************************************************\n"
     ]
    },
    {
     "name": "stdin",
     "output_type": "stream",
     "text": [
      "Please Place Your Order Here: latte\n",
      "How Many Number Of Order You Want: 1\n"
     ]
    },
    {
     "name": "stdout",
     "output_type": "stream",
     "text": [
      "Preparing Your Order\n",
      "Your Order Is Ready\n",
      "Please Enjoy Your Latte\n"
     ]
    },
    {
     "name": "stdin",
     "output_type": "stream",
     "text": [
      "Do you want to order anything else?: no\n"
     ]
    },
    {
     "name": "stdout",
     "output_type": "stream",
     "text": [
      "---------------Bill Receipt---------------\n",
      "final bill: ₹ 270\n",
      "--------------Payment Process-------------\n"
     ]
    },
    {
     "name": "stdin",
     "output_type": "stream",
     "text": [
      "Please pay your bill here:₹ 200\n"
     ]
    },
    {
     "name": "stdout",
     "output_type": "stream",
     "text": [
      "Payment Failed!\n",
      "Please pay remaining amount:₹ 70\n"
     ]
    },
    {
     "name": "stdin",
     "output_type": "stream",
     "text": [
      "Please pay your bill here:₹ 100\n"
     ]
    },
    {
     "name": "stdout",
     "output_type": "stream",
     "text": [
      "Here is your change: ₹ 30\n",
      "Thank you for visiting our Moonlight Cafe\n",
      "Please Visit Us Again\n",
      "Welcome to the Moonlight Cafe\n",
      "**************************************************\n"
     ]
    },
    {
     "name": "stdin",
     "output_type": "stream",
     "text": [
      "Please enter your full name here: rena kalape\n"
     ]
    },
    {
     "name": "stdout",
     "output_type": "stream",
     "text": [
      "This is your Menu\n",
      "**************************************************\n",
      "Menu:\n",
      "Instant Coffee : ₹ 80\n",
      "Black Coffee : ₹ 90\n",
      "Latte : ₹ 120\n",
      "Americano : ₹ 130\n",
      "Mocca : ₹ 150\n",
      "Cappuccino : ₹ 200\n",
      "Kopi Luwak : ₹ 300\n",
      "Cheese Sandwich : ₹ 80\n",
      "Tuna Sandwich : ₹ 90\n",
      "Fish And Chips : ₹ 120\n",
      "Chocolate Cake : ₹ 130\n",
      "Strawberry Mousse : ₹ 150\n",
      "Red Velvet Cake : ₹ 200\n",
      "Cheese Cake : ₹ 300\n",
      "**************************************************\n"
     ]
    },
    {
     "name": "stdin",
     "output_type": "stream",
     "text": [
      "Please Place Your Order Here: kopi luwak\n",
      "How Many Number Of Order You Want: 2\n"
     ]
    },
    {
     "name": "stdout",
     "output_type": "stream",
     "text": [
      "Preparing Your Order\n",
      "Your Order Is Ready\n",
      "Please Enjoy Your Kopi Luwak\n"
     ]
    },
    {
     "name": "stdin",
     "output_type": "stream",
     "text": [
      "Do you want to order anything else?: no\n"
     ]
    },
    {
     "name": "stdout",
     "output_type": "stream",
     "text": [
      "---------------Bill Receipt---------------\n",
      "final bill: ₹ 600\n",
      "--------------Payment Process-------------\n"
     ]
    },
    {
     "name": "stdin",
     "output_type": "stream",
     "text": [
      "Please pay your bill here:₹ 600\n"
     ]
    },
    {
     "name": "stdout",
     "output_type": "stream",
     "text": [
      "Thank you for visiting our Moonlight Cafe\n",
      "Please Visit Us Again\n",
      "Welcome to the Moonlight Cafe\n",
      "**************************************************\n"
     ]
    },
    {
     "name": "stdin",
     "output_type": "stream",
     "text": [
      "Please enter your full name here: manisha satpute\n"
     ]
    },
    {
     "name": "stdout",
     "output_type": "stream",
     "text": [
      "This is your Menu\n",
      "**************************************************\n",
      "Menu:\n",
      "Instant Coffee : ₹ 80\n",
      "Black Coffee : ₹ 90\n",
      "Latte : ₹ 120\n",
      "Americano : ₹ 130\n",
      "Mocca : ₹ 150\n",
      "Cappuccino : ₹ 200\n",
      "Kopi Luwak : ₹ 300\n",
      "Cheese Sandwich : ₹ 80\n",
      "Tuna Sandwich : ₹ 90\n",
      "Fish And Chips : ₹ 120\n",
      "Chocolate Cake : ₹ 130\n",
      "Strawberry Mousse : ₹ 150\n",
      "Red Velvet Cake : ₹ 200\n",
      "Cheese Cake : ₹ 300\n",
      "**************************************************\n"
     ]
    },
    {
     "name": "stdin",
     "output_type": "stream",
     "text": [
      "Please Place Your Order Here: mocca\n",
      "How Many Number Of Order You Want: 1\n"
     ]
    },
    {
     "name": "stdout",
     "output_type": "stream",
     "text": [
      "Preparing Your Order\n",
      "Your Order Is Ready\n",
      "Please Enjoy Your Mocca\n"
     ]
    },
    {
     "name": "stdin",
     "output_type": "stream",
     "text": [
      "Do you want to order anything else?: no\n"
     ]
    },
    {
     "name": "stdout",
     "output_type": "stream",
     "text": [
      "---------------Bill Receipt---------------\n",
      "final bill: ₹ 150\n",
      "--------------Payment Process-------------\n"
     ]
    },
    {
     "name": "stdin",
     "output_type": "stream",
     "text": [
      "Please pay your bill here:₹ 200\n"
     ]
    },
    {
     "name": "stdout",
     "output_type": "stream",
     "text": [
      "Here is your change: ₹ 50\n",
      "Thank you for visiting our Moonlight Cafe\n",
      "Please Visit Us Again\n"
     ]
    }
   ],
   "source": [
    "# Virtual Coffee Shop:\n",
    "\n",
    "\n",
    "class RMS:\n",
    "    def __init__(self,restaurant_name,restaurant_menu):\n",
    "        self.rest_name=restaurant_name\n",
    "        self.menu=restaurant_menu\n",
    "        self.user_order=\" \"\n",
    "        self.no_order=0\n",
    "        self.user_pay=0\n",
    "        self.wlcm_msg=(f\"'{self.rest_name}'\")\n",
    "        \n",
    "    \n",
    "    def welcome_user(self):\n",
    "        self.user_order_li=[]\n",
    "        self.bill=0\n",
    "        self.username=\"\"\n",
    "        #Welcome User\n",
    "        print('Welcome to the',self.rest_name.title())\n",
    "        print('*'*50)\n",
    "        self.username=input(\"Please enter your full name here:\").title()\n",
    "        print(\"This is your Menu\")\n",
    "        print('*'*50)\n",
    "    \n",
    "    def display_menu(self): \n",
    "        #Display Menu \n",
    "        print('Menu:')\n",
    "        for i in self.menu:\n",
    "            print(i.title(),\":\",\"₹\",self.menu[i])\n",
    "        print('*'*50)\n",
    "        \n",
    "   \n",
    "    def take_order(self):\n",
    "        #Take order\n",
    "        self.user_order=input('Please Place Your Order Here:').title()\n",
    "        \n",
    "\n",
    "    def prepare_order(self):\n",
    "        self.no_order=int(input(\"How Many Number Of Order You Want:\")) \n",
    "        #Preparing Order\n",
    "        self.user_order_li.append(self.user_order)\n",
    "        print('Preparing Your Order')\n",
    "        import time\n",
    "        time.sleep(0.5)\n",
    "        \n",
    "    \n",
    "    def serve_order(self): \n",
    "        #Serve Order\n",
    "        print('Your order is ready'.title())\n",
    "        print('Please Enjoy Your',self.user_order)\n",
    "        self.bill=self.bill+(self.menu[self.user_order]*self.no_order)\n",
    "    \n",
    "    \n",
    "    \n",
    "    def repeat_order(self):\n",
    "        self.display_menu()\n",
    "        self.take_order()\n",
    "        if self.user_order in self.menu:\n",
    "            self.prepare_order()\n",
    "            self.serve_order()\n",
    "        else:\n",
    "            print('Invalid Order')\n",
    "            self.repeat_order()\n",
    "           \n",
    "    \n",
    "    \n",
    "    def display_bill(self):\n",
    "        print(\"---------------bill receipt---------------\".title())\n",
    "       #Display Bill\n",
    "        print(\"final bill:\",\"₹\",self.bill)  \n",
    "        self.excel_bill = self.bill\n",
    "\n",
    "        print(\"--------------payment process-------------\".title()) \n",
    "    \n",
    "        \n",
    "    \n",
    "        \n",
    "    def verify_payment(self): \n",
    "        #Take Payment\n",
    "        self.user_pay=int(input('Please pay your bill here:₹'))\n",
    "        while self.bill>self.user_pay:\n",
    "            self.bill=self.bill-self.user_pay\n",
    "            print('Payment Failed!')\n",
    "            print('Please pay remaining amount:₹',self.bill)\n",
    "            self.user_pay=int(input('Please pay your bill here:₹'))\n",
    "        #if payment>bill return change\n",
    "        if self.user_pay>self.bill:\n",
    "            print('Here is your change:',\"₹\",self.user_pay-self.bill)\n",
    "        else:\n",
    "            pass\n",
    "    \n",
    "\n",
    "\n",
    "\n",
    "    \n",
    "    \n",
    "    def thank_user(self):\n",
    "        #thank you\n",
    "        print('Thank you for visiting our',self.rest_name.title())\n",
    "        print('Please Visit Us Again')\n",
    "        import pandas as pd\n",
    "        try:\n",
    "           self.df=pd.read_excel('order history.xlsx')\n",
    "        except FileNotFoundError:\n",
    "            self.df=pd.DataFrame(columns=['user name','user order','total bill','date','time'])\n",
    "        \n",
    "        \n",
    "        row_number=len(self.df)  \n",
    "        from datetime import datetime\n",
    "        self.curr_date=datetime.now().strftime('%d-%m-%Y')\n",
    "        self.curr_time=datetime.now().strftime('%H:%M:%S')\n",
    "        #self.df.at[row_number,'user order']=self.order_li\n",
    "        #self.df.at[row_number,'total bill']=self.excel_total_bill\n",
    "        #self.df.at[row_number,'date time']=self.curr_dt\n",
    "        self.df.loc[row_number] = [self.username,','.join(self.user_order_li),self.excel_bill, self.curr_date,self.curr_time]\n",
    "        self.df.to_excel('order history.xlsx',index=False)\n",
    "\n",
    "\n",
    "\n",
    "\n",
    "    \n",
    "    \n",
    "    def order_process(self):\n",
    "        self.welcome_user()\n",
    "        self.display_menu()\n",
    "        self.take_order()\n",
    "        if self.user_order in self.menu:\n",
    "            self.prepare_order()\n",
    "            self.serve_order()\n",
    "            want_more=input('Do you want to order anything else?:').title()\n",
    "            while want_more=='Yes':\n",
    "                self.repeat_order()\n",
    "                want_more=input('Do you want to order anything else?:').title()    \n",
    "            self.display_bill()\n",
    "            self.verify_payment()\n",
    "            self.thank_user()\n",
    "        else:\n",
    "            print('Invalid Order')\n",
    "            self.order_process()\n",
    "\n",
    "\n",
    "\n",
    "\n",
    "\n",
    "if __name__==\"__main__\":\n",
    "    file=open('user input.txt')\n",
    "    user_input=file.readlines() \n",
    "    rest_name=user_input[0].replace('\\n','')\n",
    "    food_name=user_input[1].replace('\\n','').split(',')\n",
    "    food_prices=[]\n",
    "    for i in user_input[2].split(','):\n",
    "        food_prices.append(int(i))\n",
    "    menu=dict(zip(food_name,food_prices))\n",
    "    cafe=RMS(rest_name,menu)\n",
    "\n",
    "\n",
    "    \n",
    "    #creating window:\n",
    "    import tkinter as tk\n",
    "    window=tk.Tk()\n",
    "    window.geometry(\"500x500\")\n",
    "    window.title(\"Python Project\") \n",
    "    tk.Label(window,text=cafe.wlcm_msg,font=(\"Helvetica\",30),foreground=\"dark blue\").place(x=70,y=70)\n",
    "    tk.Label(window,text=\"*Please click on 'START' button for order -:\",font=(\"Helvetica\",15)).place(x=30,y=240)\n",
    "    tk.Button(window,text=\"START\",command=cafe.order_process,font=(\"Helvetica\",20),width=18,background=\"green\",foreground=\"white\").place(x=100,y=310)\n",
    "    window.mainloop()\n",
    "        \n",
    "    \n",
    "\n",
    "   "
   ]
  }
 ],
 "metadata": {
  "kernelspec": {
   "display_name": "Python 3 (ipykernel)",
   "language": "python",
   "name": "python3"
  },
  "language_info": {
   "codemirror_mode": {
    "name": "ipython",
    "version": 3
   },
   "file_extension": ".py",
   "mimetype": "text/x-python",
   "name": "python",
   "nbconvert_exporter": "python",
   "pygments_lexer": "ipython3",
   "version": "3.11.7"
  }
 },
 "nbformat": 4,
 "nbformat_minor": 5
}
